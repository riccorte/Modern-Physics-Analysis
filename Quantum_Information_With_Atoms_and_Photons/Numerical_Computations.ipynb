{
 "cells": [
  {
   "cell_type": "markdown",
   "id": "396aca37",
   "metadata": {},
   "source": [
    "# Quantum Information Project 4\n",
    "\n",
    "A cleaned, presentation-ready notebook with structured sections, concise code, and explanatory notes."
   ]
  },
  {
   "cell_type": "markdown",
   "id": "f46a6a5e",
   "metadata": {},
   "source": [
    "## 1. Setup and Imports\n",
    "\n",
    "Required libraries for the analysis."
   ]
  },
  {
   "cell_type": "code",
   "execution_count": null,
   "id": "6b53e925",
   "metadata": {},
   "outputs": [],
   "source": [
    "import sympy as sp\n",
    "import numpy as np\n",
    "from scipy.integrate import quad, dblquad\n",
    "from sympy import latex\n",
    "from IPython.display import display, Math"
   ]
  },
  {
   "cell_type": "markdown",
   "id": "4bcd62cd",
   "metadata": {},
   "source": [
    "# **2 Lithium red, crude approximation**\n",
    "Burning Lithium produces a vivid red flame, with peak emission roughly around 670 ± 10 nm.\n",
    "The task of this problem is to solve the Lithium atom for the red transition at the\n",
    "crudest approximation: We will consider the two electrons in the inner 1s shell to be producing\n",
    "an electrostatic potential which causes a low-order perturbative correction to the energies of the\n",
    "other states. We ignore relativistic effects and all the processes that excite or perturb the orbitals\n",
    "of the inner electrons, for simplicity.\n",
    "\n",
    "\n",
    "\n",
    "\n",
    "\n"
   ]
  },
  {
   "cell_type": "markdown",
   "id": "6b4e683a",
   "metadata": {},
   "source": [
    "1. Consider now the bare Lithium nucleus, located at the origin of the coordinates system. It\n",
    "has a monopole charge of three positive elementary charges Z = 3 (all the other electrical\n",
    "multipoles are negligible). List and write, in real-space spherical coordinates, the singleelectron wavefunction for the orbitals |1s⟩, |2s⟩ and the triplet of |2p⟩, and express their\n",
    "energies in eV.\n"
   ]
  },
  {
   "cell_type": "markdown",
   "id": "33600c90",
   "metadata": {},
   "source": [
    "## 4. Results\n",
    "\n",
    "Printed metrics and final numerical outcomes."
   ]
  },
  {
   "cell_type": "code",
   "execution_count": 4,
   "id": "d2b9d036",
   "metadata": {},
   "outputs": [
    {
     "name": "stdout",
     "output_type": "stream",
     "text": [
      "oo\n"
     ]
    }
   ],
   "source": [
    "a = sp.symbols('a', positive=True)\n",
    "r = sp.symbols('r')\n",
    "integral = sp.integrate(sp.exp(-9*r/a)*(1/r)*(1+9*r**2/(a*4) -3*r/a)*(a+3*r), (r, 0, sp.oo))\n",
    "print(integral)"
   ]
  },
  {
   "cell_type": "code",
   "execution_count": 51,
   "id": "86e82490",
   "metadata": {},
   "outputs": [
    {
     "name": "stdout",
     "output_type": "stream",
     "text": [
      "17 \n",
      "───\n",
      "162\n"
     ]
    }
   ],
   "source": [
    "# Define variables\n",
    "r, Z = sp.symbols('r Z', real=True, positive=True)\n",
    "\n",
    "# Define the wavefunction squared |phi_2s(r)|^2\n",
    "wf_2s_sq = Z**2/(16*sp.pi)*sp.exp(-Z*r) * (1 - (Z*r)/(2))**2\n",
    "\n",
    "# Define the perturbing potential Phi(r)\n",
    "Phi_r = -(sp.exp(-2*Z*r) * (1 + Z*r) - 1) / r\n",
    "\n",
    "# Compute the energy correction integral\n",
    "integral = sp.integrate(4 * sp.pi * wf_2s_sq * Phi_r * r**2, (r, 0, sp.oo))\n",
    "\n",
    "# Display the result\n",
    "sp.pprint(integral)"
   ]
  },
  {
   "cell_type": "code",
   "execution_count": 11,
   "id": "37023987",
   "metadata": {},
   "outputs": [
    {
     "name": "stdout",
     "output_type": "stream",
     "text": [
      "-4.51819531135035e-105\n"
     ]
    }
   ],
   "source": [
    "# Define numerical values\n",
    "values = {a: 5.2917*10**(-11),Z: 3}  # Example values\n",
    "\n",
    "# Substitute and evaluate the result\n",
    "numerical_result = integral.subs(values).evalf()\n",
    "\n",
    "# Print the numerical result\n",
    "print(numerical_result)"
   ]
  },
  {
   "cell_type": "markdown",
   "id": "fcaa0e0c",
   "metadata": {},
   "source": [
    "## 2. Utilities\n",
    "\n",
    "Helper functions used throughout the analysis."
   ]
  },
  {
   "cell_type": "code",
   "execution_count": 50,
   "id": "09202ce1",
   "metadata": {},
   "outputs": [
    {
     "name": "stdout",
     "output_type": "stream",
     "text": [
      "First-order energy shift: -0.77160 Hartrees\n"
     ]
    }
   ],
   "source": [
    "# Constants\n",
    "Z = 3  # Assuming Hydrogen-like atom (set to 1 for Hydrogen)\n",
    "\n",
    " \n",
    "# Define wavefunctions\n",
    "def R_21(r, Z=1):\n",
    "    return (1 / (2 * np.sqrt(6))) * np.sqrt(Z**3) * np.exp(-Z * r / 2) * (Z * r)\n",
    "\n",
    "def Y_10(theta):\n",
    "    return np.sqrt(3 / (8 * np.pi)) * np.sin(theta)\n",
    "\n",
    "# Define the perturbing potential H' (example: Coulomb perturbation, H' = -Z/r)\n",
    "def H_perturbation(r, theta):\n",
    "    return (-sp.exp(-2*Z*r) * (1 + Z*r) - 1) / r  # Example: Coulomb-like perturbation\n",
    "\n",
    "# Define the full integrand\n",
    "def integrand(r, theta, phi):\n",
    "    R_val = R_21(r, Z)**2\n",
    "    Y_val = Y_10(theta)**2\n",
    "    H_val = H_perturbation(r, theta)\n",
    "    return R_val * Y_val * H_val * r**2 * np.sin(theta)\n",
    "\n",
    "# Integrate over φ (0 to 2π)\n",
    "phi_integral, _ = quad(lambda phi: 1, 0, 2 * np.pi)  # Just gives 2π\n",
    "\n",
    "# Integrate over r and θ using dblquad\n",
    "E1, error = dblquad(\n",
    "    lambda r, theta: integrand(r, theta, 0),  # Function to integrate\n",
    "    0, np.pi,  # Theta limits\n",
    "    lambda theta: 0, lambda theta: np.inf  # r limits\n",
    ")\n",
    "\n",
    "# Multiply by φ integral result\n",
    "E1 *= phi_integral\n",
    "\n",
    "print(f\"First-order energy shift: {E1:.5f} Hartrees\")"
   ]
  },
  {
   "cell_type": "code",
   "execution_count": 23,
   "id": "cd5f8fd0",
   "metadata": {},
   "outputs": [
    {
     "ename": "TypeError",
     "evalue": "scipy.integrate._quadpack_py._NQuad.integrate() argument after * must be an iterable, not function",
     "output_type": "error",
     "traceback": [
      "\u001b[0;31m---------------------------------------------------------------------------\u001b[0m",
      "\u001b[0;31mTypeError\u001b[0m                                 Traceback (most recent call last)",
      "Cell \u001b[0;32mIn[23], line 29\u001b[0m\n\u001b[1;32m     23\u001b[0m     \u001b[38;5;28;01mreturn\u001b[39;00m R_val \u001b[38;5;241m*\u001b[39m Y_val \u001b[38;5;241m*\u001b[39m H_val \u001b[38;5;241m*\u001b[39m r\u001b[38;5;241m*\u001b[39m\u001b[38;5;241m*\u001b[39m\u001b[38;5;241m2\u001b[39m \u001b[38;5;241m*\u001b[39m np\u001b[38;5;241m.\u001b[39msin(theta)\n\u001b[1;32m     25\u001b[0m \u001b[38;5;66;03m# Integrate over φ (0 to 2π)\u001b[39;00m\n\u001b[1;32m     26\u001b[0m \u001b[38;5;66;03m#phi_integral, _ = quad(lambda phi: 1, 0, 2 * np.pi)  # Just gives 2π\u001b[39;00m\n\u001b[1;32m     27\u001b[0m \n\u001b[1;32m     28\u001b[0m \u001b[38;5;66;03m# Integrate over r and θ using dblquad\u001b[39;00m\n\u001b[0;32m---> 29\u001b[0m E1, error \u001b[38;5;241m=\u001b[39m \u001b[43mdblquad\u001b[49m\u001b[43m(\u001b[49m\n\u001b[1;32m     30\u001b[0m \u001b[43m    \u001b[49m\u001b[38;5;28;43;01mlambda\u001b[39;49;00m\u001b[43m \u001b[49m\u001b[43mr\u001b[49m\u001b[43m,\u001b[49m\u001b[43m \u001b[49m\u001b[43mtheta\u001b[49m\u001b[43m,\u001b[49m\u001b[43m \u001b[49m\u001b[43mphi\u001b[49m\u001b[43m:\u001b[49m\u001b[43m \u001b[49m\u001b[43mintegrand\u001b[49m\u001b[43m(\u001b[49m\u001b[43mr\u001b[49m\u001b[43m,\u001b[49m\u001b[43m \u001b[49m\u001b[43mtheta\u001b[49m\u001b[43m,\u001b[49m\u001b[43m \u001b[49m\u001b[43mphi\u001b[49m\u001b[43m)\u001b[49m\u001b[43m,\u001b[49m\u001b[43m  \u001b[49m\u001b[38;5;66;43;03m# Function to integrate\u001b[39;49;00m\n\u001b[1;32m     31\u001b[0m \u001b[43m    \u001b[49m\u001b[38;5;241;43m0\u001b[39;49m\u001b[43m,\u001b[49m\u001b[43m \u001b[49m\u001b[38;5;241;43m2\u001b[39;49m\u001b[38;5;241;43m*\u001b[39;49m\u001b[43mnp\u001b[49m\u001b[38;5;241;43m.\u001b[39;49m\u001b[43mpi\u001b[49m\u001b[43m,\u001b[49m\n\u001b[1;32m     32\u001b[0m \u001b[43m    \u001b[49m\u001b[38;5;241;43m0\u001b[39;49m\u001b[43m,\u001b[49m\u001b[43m \u001b[49m\u001b[43mnp\u001b[49m\u001b[38;5;241;43m.\u001b[39;49m\u001b[43mpi\u001b[49m\u001b[43m,\u001b[49m\u001b[43m  \u001b[49m\u001b[38;5;66;43;03m# Theta limits\u001b[39;49;00m\n\u001b[1;32m     33\u001b[0m \u001b[43m    \u001b[49m\u001b[38;5;28;43;01mlambda\u001b[39;49;00m\u001b[43m \u001b[49m\u001b[43mtheta\u001b[49m\u001b[43m:\u001b[49m\u001b[43m \u001b[49m\u001b[38;5;241;43m0\u001b[39;49m\u001b[43m,\u001b[49m\u001b[43m \u001b[49m\u001b[38;5;28;43;01mlambda\u001b[39;49;00m\u001b[43m \u001b[49m\u001b[43mtheta\u001b[49m\u001b[43m:\u001b[49m\u001b[43m \u001b[49m\u001b[43mnp\u001b[49m\u001b[38;5;241;43m.\u001b[39;49m\u001b[43minf\u001b[49m\u001b[43m  \u001b[49m\u001b[38;5;66;43;03m# r limits\u001b[39;49;00m\n\u001b[1;32m     34\u001b[0m \u001b[43m)\u001b[49m\n\u001b[1;32m     36\u001b[0m \u001b[38;5;66;03m# Multiply by φ integral result\u001b[39;00m\n\u001b[1;32m     37\u001b[0m \u001b[38;5;66;03m#E1 *= phi_integral\u001b[39;00m\n\u001b[1;32m     39\u001b[0m \u001b[38;5;28mprint\u001b[39m(\u001b[38;5;124mf\u001b[39m\u001b[38;5;124m\"\u001b[39m\u001b[38;5;124mFirst-order energy shift: \u001b[39m\u001b[38;5;132;01m{\u001b[39;00mE1\u001b[38;5;132;01m:\u001b[39;00m\u001b[38;5;124m.5f\u001b[39m\u001b[38;5;132;01m}\u001b[39;00m\u001b[38;5;124m Hartrees\u001b[39m\u001b[38;5;124m\"\u001b[39m)\n",
      "File \u001b[0;32m~/.local/lib/python3.10/site-packages/scipy/integrate/_quadpack_py.py:806\u001b[0m, in \u001b[0;36mdblquad\u001b[0;34m(func, a, b, gfun, hfun, args, epsabs, epsrel)\u001b[0m\n\u001b[1;32m    802\u001b[0m \u001b[38;5;28;01mdef\u001b[39;00m \u001b[38;5;21mtemp_ranges\u001b[39m(\u001b[38;5;241m*\u001b[39margs):\n\u001b[1;32m    803\u001b[0m     \u001b[38;5;28;01mreturn\u001b[39;00m [gfun(args[\u001b[38;5;241m0\u001b[39m]) \u001b[38;5;28;01mif\u001b[39;00m \u001b[38;5;28mcallable\u001b[39m(gfun) \u001b[38;5;28;01melse\u001b[39;00m gfun,\n\u001b[1;32m    804\u001b[0m             hfun(args[\u001b[38;5;241m0\u001b[39m]) \u001b[38;5;28;01mif\u001b[39;00m \u001b[38;5;28mcallable\u001b[39m(hfun) \u001b[38;5;28;01melse\u001b[39;00m hfun]\n\u001b[0;32m--> 806\u001b[0m \u001b[38;5;28;01mreturn\u001b[39;00m \u001b[43mnquad\u001b[49m\u001b[43m(\u001b[49m\u001b[43mfunc\u001b[49m\u001b[43m,\u001b[49m\u001b[43m \u001b[49m\u001b[43m[\u001b[49m\u001b[43mtemp_ranges\u001b[49m\u001b[43m,\u001b[49m\u001b[43m \u001b[49m\u001b[43m[\u001b[49m\u001b[43ma\u001b[49m\u001b[43m,\u001b[49m\u001b[43m \u001b[49m\u001b[43mb\u001b[49m\u001b[43m]\u001b[49m\u001b[43m]\u001b[49m\u001b[43m,\u001b[49m\u001b[43m \u001b[49m\u001b[43margs\u001b[49m\u001b[38;5;241;43m=\u001b[39;49m\u001b[43margs\u001b[49m\u001b[43m,\u001b[49m\n\u001b[1;32m    807\u001b[0m \u001b[43m        \u001b[49m\u001b[43mopts\u001b[49m\u001b[38;5;241;43m=\u001b[39;49m\u001b[43m{\u001b[49m\u001b[38;5;124;43m\"\u001b[39;49m\u001b[38;5;124;43mepsabs\u001b[39;49m\u001b[38;5;124;43m\"\u001b[39;49m\u001b[43m:\u001b[49m\u001b[43m \u001b[49m\u001b[43mepsabs\u001b[49m\u001b[43m,\u001b[49m\u001b[43m \u001b[49m\u001b[38;5;124;43m\"\u001b[39;49m\u001b[38;5;124;43mepsrel\u001b[39;49m\u001b[38;5;124;43m\"\u001b[39;49m\u001b[43m:\u001b[49m\u001b[43m \u001b[49m\u001b[43mepsrel\u001b[49m\u001b[43m}\u001b[49m\u001b[43m)\u001b[49m\n",
      "File \u001b[0;32m~/.local/lib/python3.10/site-packages/scipy/integrate/_quadpack_py.py:1206\u001b[0m, in \u001b[0;36mnquad\u001b[0;34m(func, ranges, args, opts, full_output)\u001b[0m\n\u001b[1;32m   1204\u001b[0m \u001b[38;5;28;01melse\u001b[39;00m:\n\u001b[1;32m   1205\u001b[0m     opts \u001b[38;5;241m=\u001b[39m [opt \u001b[38;5;28;01mif\u001b[39;00m \u001b[38;5;28mcallable\u001b[39m(opt) \u001b[38;5;28;01melse\u001b[39;00m _OptFunc(opt) \u001b[38;5;28;01mfor\u001b[39;00m opt \u001b[38;5;129;01min\u001b[39;00m opts]\n\u001b[0;32m-> 1206\u001b[0m \u001b[38;5;28;01mreturn\u001b[39;00m \u001b[43m_NQuad\u001b[49m\u001b[43m(\u001b[49m\u001b[43mfunc\u001b[49m\u001b[43m,\u001b[49m\u001b[43m \u001b[49m\u001b[43mranges\u001b[49m\u001b[43m,\u001b[49m\u001b[43m \u001b[49m\u001b[43mopts\u001b[49m\u001b[43m,\u001b[49m\u001b[43m \u001b[49m\u001b[43mfull_output\u001b[49m\u001b[43m)\u001b[49m\u001b[38;5;241;43m.\u001b[39;49m\u001b[43mintegrate\u001b[49m\u001b[43m(\u001b[49m\u001b[38;5;241;43m*\u001b[39;49m\u001b[43margs\u001b[49m\u001b[43m)\u001b[49m\n",
      "\u001b[0;31mTypeError\u001b[0m: scipy.integrate._quadpack_py._NQuad.integrate() argument after * must be an iterable, not function"
     ]
    }
   ],
   "source": [
    "# Constants\n",
    "Z = 3  # Assuming Hydrogen-like atom (set to 1 for Hydrogen)\n",
    "\n",
    "# Define wavefunctions\n",
    "def R_21(r, Z=1):\n",
    "    return (1 / (2 * np.sqrt(6))) * np.sqrt(Z**3) * np.exp(-Z * r / 2) * (Z * r)\n",
    "\n",
    "def Y_10(theta, phi):\n",
    "    return np.sqrt(3 / (8 * np.pi)) * np.sin(theta)*np.exp(1j*phi)\n",
    "\n",
    "# Define the perturbing potential H' (example: Coulomb perturbation, H' = -Z/r)\n",
    "def H_perturbation(r, theta):\n",
    "    return (sp.exp(-2*Z*r) * (1 + Z*r) - 1) / r  # Example: Coulomb-like perturbation\n",
    "\n",
    "# Define the full integrand\n",
    "def integrand(r, theta, phi):\n",
    "    R_val = R_21(r, Z)**2\n",
    "    Y_val = Y_10(theta, phi)**2\n",
    "    H_val = H_perturbation(r, theta)\n",
    "    return R_val * Y_val * H_val * r**2 * np.sin(theta)\n",
    "\n",
    "# Integrate over φ (0 to 2π)\n",
    "#phi_integral, _ = quad(lambda phi: 1, 0, 2 * np.pi)  # Just gives 2π\n",
    "\n",
    "# Integrate over r and θ using dblquad\n",
    "E1, error = dblquad(\n",
    "    lambda r, theta, phi: integrand(r, theta, phi),  # Function to integrate\n",
    "    0, 2*np.pi,\n",
    "    0, np.pi,  # Theta limits\n",
    "    lambda theta: 0, lambda theta: np.inf  # r limits\n",
    ")\n",
    "\n",
    "# Multiply by φ integral result\n",
    "#E1 *= phi_integral\n",
    "\n",
    "print(f\"First-order energy shift: {E1:.5f} Hartrees\")"
   ]
  },
  {
   "cell_type": "markdown",
   "id": "b69057b4",
   "metadata": {},
   "source": [
    "## 4. Results\n",
    "\n",
    "Printed metrics and final numerical outcomes."
   ]
  },
  {
   "cell_type": "code",
   "execution_count": 48,
   "id": "e9e43dae",
   "metadata": {},
   "outputs": [
    {
     "data": {
      "text/latex": [
       "$\\displaystyle \\frac{59 Z}{243}$"
      ],
      "text/plain": [
       "59*Z/243"
      ]
     },
     "execution_count": 48,
     "metadata": {},
     "output_type": "execute_result"
    }
   ],
   "source": [
    "# Define symbols\n",
    "r, theta, phi, Z, e = sp.symbols('r theta phi Z e', real=True, positive=True)\n",
    "\n",
    "# Define wavefunctions\n",
    "R_21 = (1 / (2 * sp.sqrt(6))) * sp.sqrt(Z**3) * sp.exp(-Z * r / 2) * (Z * r)\n",
    "Y_1m1 = sp.sqrt(3 / (8 * sp.pi)) * sp.sin(theta) * sp.exp(sp.I * phi)\n",
    "\n",
    "# Define the perturbing potential Phi(r)\n",
    "Phi_r = -(sp.exp(-2*Z*r) * (1 + Z*r) - 1) / r\n",
    "\n",
    "# Compute the squared modulus |ψ|²\n",
    "psi_squared = sp.simplify(R_21**2 * Y_1m1 * sp.conjugate(Y_1m1)*Phi_r)\n",
    "\n",
    "# Define volume element in spherical coordinates\n",
    "dV = r**2 * sp.sin(theta)\n",
    "\n",
    "# Perform the integrals\n",
    "# 1. Integrate over phi from 0 to 2π\n",
    "phi_integral = sp.integrate(psi_squared, (phi, 0, 2 * sp.pi))\n",
    "\n",
    "# 2. Integrate over theta from 0 to π\n",
    "theta_integral = sp.integrate(phi_integral * sp.sin(theta), (theta, 0, sp.pi))\n",
    "\n",
    "# 3. Integrate over r from 0 to ∞\n",
    "r_integral = sp.integrate(theta_integral * r**2, (r, 0, sp.oo))\n",
    "\n",
    "# Display final result\n",
    "sp.simplify(r_integral)"
   ]
  },
  {
   "cell_type": "code",
   "execution_count": 47,
   "id": "4362781c",
   "metadata": {},
   "outputs": [
    {
     "data": {
      "text/latex": [
       "$\\displaystyle \\frac{34}{81 Z^{2}}$"
      ],
      "text/plain": [
       "34/(81*Z**2)"
      ]
     },
     "execution_count": 47,
     "metadata": {},
     "output_type": "execute_result"
    }
   ],
   "source": [
    "# Define symbols\n",
    "r, theta, phi, Z = sp.symbols('r theta phi Z', real=True, positive=True)\n",
    "\n",
    "# Define wavefunctions\n",
    "R_21 = sp.exp(-Z * r / 2) * (1 - Z * r/2)\n",
    "Y_1m1 = sp.sqrt(1 / (4 * sp.pi)) \n",
    "\n",
    "# Define the perturbing potential Phi(r)\n",
    "Phi_r = -(sp.exp(-2*Z*r) * (1 + Z*r) - 1) / r\n",
    "\n",
    "# Compute the squared modulus |ψ|²\n",
    "psi_squared = sp.simplify(R_21**2 * Y_1m1 * sp.conjugate(Y_1m1)*Phi_r)\n",
    "\n",
    "# Define volume element in spherical coordinates\n",
    "dV = r**2 * sp.sin(theta)\n",
    "\n",
    "# Perform the integrals\n",
    "# 1. Integrate over phi from 0 to 2π\n",
    "phi_integral = sp.integrate(psi_squared, (phi, 0, 2 * sp.pi))\n",
    "\n",
    "# 2. Integrate over theta from 0 to π\n",
    "theta_integral = sp.integrate(phi_integral * sp.sin(theta), (theta, 0, sp.pi))\n",
    "\n",
    "# 3. Integrate over r from 0 to ∞\n",
    "r_integral = sp.integrate(theta_integral * r**2, (r, 0, sp.oo))\n",
    "\n",
    "# Display final result\n",
    "sp.simplify(r_integral)"
   ]
  },
  {
   "cell_type": "code",
   "execution_count": 32,
   "id": "c7509188",
   "metadata": {},
   "outputs": [
    {
     "data": {
      "text/latex": [
       "$\\displaystyle 1$"
      ],
      "text/plain": [
       "1"
      ]
     },
     "execution_count": 32,
     "metadata": {},
     "output_type": "execute_result"
    }
   ],
   "source": [
    "# Define symbols\n",
    "r, theta, phi, Z = sp.symbols('r theta phi Z', real=True, positive=True)\n",
    "\n",
    "# Define wavefunctions\n",
    "R_21 = (1 / ( sp.sqrt(24))) * sp.sqrt(Z**3) * sp.exp(-Z * r / 2) * (Z * r)\n",
    "Y_1m1 = sp.sqrt(3 / (8 * sp.pi)) * sp.sin(theta)* sp.exp(sp.I * phi)\n",
    "\n",
    "# Define the perturbing potential Phi(r)\n",
    "Phi_r = -(sp.exp(-2*Z*r) * (1 + Z*r) - 1) / r\n",
    "\n",
    "# Compute the squared modulus |ψ|²\n",
    "psi_squared = sp.simplify(R_21**2 * Y_1m1 * sp.conjugate(Y_1m1))\n",
    "\n",
    "# Define volume element in spherical coordinates\n",
    "dV = r**2 * sp.sin(theta)\n",
    "\n",
    "integ=psi_squared\n",
    "\n",
    "# Perform the integrals\n",
    "# 1. Integrate over phi from 0 to 2π\n",
    "phi_integral = sp.integrate(integ, (phi, 0, 2 * sp.pi))\n",
    "\n",
    "# 2. Integrate over theta from 0 to π\n",
    "theta_integral = sp.integrate(phi_integral * sp.sin(theta), (theta, 0, sp.pi))\n",
    "\n",
    "# 3. Integrate over r from 0 to ∞\n",
    "r_integral = sp.integrate(theta_integral * r**2, (r, 0, sp.oo))\n",
    "\n",
    "# Display final result\n",
    "sp.simplify(r_integral)"
   ]
  },
  {
   "cell_type": "code",
   "execution_count": 18,
   "id": "2fd5514c",
   "metadata": {},
   "outputs": [
    {
     "data": {
      "text/latex": [
       "$\\displaystyle \\frac{17 Z}{81}$"
      ],
      "text/plain": [
       "17*Z/81"
      ]
     },
     "execution_count": 18,
     "metadata": {},
     "output_type": "execute_result"
    }
   ],
   "source": [
    "# Define symbols\n",
    "r, theta, phi, Z = sp.symbols('r theta phi Z', real=True, positive=True)\n",
    "\n",
    "# Define wavefunctions\n",
    "# Define the radial part of the wavefunction squared |R_2s(r)|^2\n",
    "wf_2s_sq = (Z**3 / 2) * sp.exp(-Z * r) * (1 - (Z * r) / 2)**2\n",
    "\n",
    "psi_squared = sp.simplify(wf_2s_sq * 1 / (4 * sp.pi))\n",
    "\n",
    "# Define volume element in spherical coordinates\n",
    "dV = r**2 * sp.sin(theta)\n",
    "\n",
    "# Define the perturbing potential Phi(r)\n",
    "Phi_r = -(sp.exp(-2*Z*r) * (1 + Z*r) - 1) / r\n",
    "\n",
    "integ=psi_squared*Phi_r\n",
    "\n",
    "# Perform the integrals\n",
    "# 1. Integrate over phi from 0 to 2π\n",
    "phi_integral = sp.integrate(integ, (phi, 0, 2 * sp.pi))\n",
    "\n",
    "# 2. Integrate over theta from 0 to π\n",
    "theta_integral = sp.integrate(phi_integral * sp.sin(theta), (theta, 0, sp.pi))\n",
    "\n",
    "# 3. Integrate over r from 0 to ∞\n",
    "r_integral = sp.integrate(theta_integral * r**2, (r, 0, sp.oo))\n",
    "\n",
    "# Display final result\n",
    "sp.simplify(r_integral)"
   ]
  },
  {
   "cell_type": "code",
   "execution_count": 72,
   "id": "dbc6bd45",
   "metadata": {},
   "outputs": [
    {
     "name": "stdout",
     "output_type": "stream",
     "text": [
      "1\n"
     ]
    }
   ],
   "source": [
    "# Define variables\n",
    "r, Z = sp.symbols('r Z', real=True, positive=True)\n",
    "\n",
    "# Define the radial part of the wavefunction squared |R_2s(r)|^2\n",
    "wf_2s_sq = (Z**3 / 2) * sp.exp(-Z * r) * (1 - (Z * r) / 2)**2\n",
    "\n",
    "wf_total_sq = wf_2s_sq * 1 / (4 * sp.pi)\n",
    "\n",
    "# Compute the normalization integral over all space\n",
    "integral = sp.integrate(4 * sp.pi * wf_total_sq * r**2, (r, 0, sp.oo))\n",
    "\n",
    "# Display the result\n",
    "sp.pprint(integral)"
   ]
  },
  {
   "cell_type": "code",
   "execution_count": 13,
   "id": "e3db9dbd",
   "metadata": {},
   "outputs": [
    {
     "data": {
      "text/latex": [
       "$\\displaystyle \\frac{59 Z}{243}$"
      ],
      "text/plain": [
       "59*Z/243"
      ]
     },
     "execution_count": 13,
     "metadata": {},
     "output_type": "execute_result"
    }
   ],
   "source": [
    "# Define symbols\n",
    "r, theta, phi, Z = sp.symbols('r theta phi Z', real=True, positive=True)\n",
    "\n",
    "# Define wavefunctions\n",
    "R_21 = (1 / (2 * sp.sqrt(6))) * sp.sqrt(Z**3) * sp.exp(-Z * r / 2) * (Z * r)\n",
    "Y_1m1 = sp.sqrt(3 / (8 * sp.pi)) * sp.sin(theta)\n",
    "\n",
    "# Define the perturbing potential Phi(r)\n",
    "Phi_r = -(sp.exp(-2*Z*r) * (1 + Z*r) - 1) / r\n",
    "\n",
    "# Compute the squared modulus |ψ|²\n",
    "psi_squared = sp.simplify(R_21**2 * Y_1m1 * sp.conjugate(Y_1m1))\n",
    "\n",
    "# Define volume element in spherical coordinates\n",
    "dV = r**2 * sp.sin(theta)\n",
    "\n",
    "integ=psi_squared*Phi_r\n",
    "\n",
    "# Perform the integrals\n",
    "# 1. Integrate over phi from 0 to 2π\n",
    "phi_integral = sp.integrate(integ, (phi, 0, 2 * sp.pi))\n",
    "\n",
    "# 2. Integrate over theta from 0 to π\n",
    "theta_integral = sp.integrate(phi_integral * sp.sin(theta), (theta, 0, sp.pi))\n",
    "\n",
    "# 3. Integrate over r from 0 to ∞\n",
    "r_integral = sp.integrate(theta_integral * r**2, (r, 0, sp.oo))\n",
    "\n",
    "# Display final result\n",
    "sp.simplify(r_integral)"
   ]
  },
  {
   "cell_type": "code",
   "execution_count": 83,
   "id": "039e6c3d",
   "metadata": {},
   "outputs": [
    {
     "name": "stdout",
     "output_type": "stream",
     "text": [
      "2.3838262410172377e-07\n"
     ]
    }
   ],
   "source": [
    "de1=0.629629\n",
    "de2=0.7284\n",
    "de=(de2-de1)*27.2114\n",
    "v=de/(2.135667696*10**(-15))\n",
    "l=(3*10**8)/v\n",
    "print(l)"
   ]
  },
  {
   "cell_type": "code",
   "execution_count": 4,
   "id": "2c2be73c",
   "metadata": {},
   "outputs": [
    {
     "name": "stdout",
     "output_type": "stream",
     "text": [
      "         1.0\n",
      "1024⋅√2⋅Z   \n",
      "────────────\n",
      "  64827⋅π   \n"
     ]
    },
    {
     "data": {
      "text/latex": [
       "$\\displaystyle \\frac{1024 \\sqrt{2} Z^{1.0}}{64827 \\pi}$"
      ],
      "text/plain": [
       "<IPython.core.display.Math object>"
      ]
     },
     "metadata": {},
     "output_type": "display_data"
    }
   ],
   "source": [
    "# Define variables\n",
    "r, Z, e = sp.symbols('r Z e', real=True, positive=True)\n",
    "\n",
    "# Define wavefunctions\n",
    "psi_1s = (1/sp.sqrt(sp.pi)) * Z**(3/2) * sp.exp(-Z*r)\n",
    "psi_2s = (1/sp.sqrt(8*sp.pi)) * Z**(3/2) * sp.exp(-Z*r/2) * (1 - Z*r/2)\n",
    "\n",
    "# Define the electrostatic potential Φ(r)\n",
    "Phi = -(1/r) * (sp.exp(-2*Z*r) * (1 + Z*r) - 1)\n",
    "\n",
    "# Define the perturbing Hamiltonian H' = -eΦ(r)\n",
    "#H_prime = -e * Phi\n",
    "\n",
    "psi_squared = sp.simplify(psi_1s  * sp.conjugate(psi_2s))\n",
    "\n",
    "# Compute the matrix element integral\n",
    "integral = sp.integrate(psi_squared * Phi * r**2, (r, 0, sp.oo))\n",
    "\n",
    "# Display result\n",
    "sp.pprint(integral, use_unicode=True)\n",
    "\n",
    "\n",
    "display(Math(latex(integral)))"
   ]
  },
  {
   "cell_type": "code",
   "execution_count": 35,
   "id": "fb5cb7e1",
   "metadata": {},
   "outputs": [
    {
     "data": {
      "text/latex": [
       "$\\displaystyle \\frac{5 Z^{3}}{2048 \\pi}$"
      ],
      "text/plain": [
       "5*Z**3/(2048*pi)"
      ]
     },
     "execution_count": 35,
     "metadata": {},
     "output_type": "execute_result"
    }
   ],
   "source": [
    "# Define symbols\n",
    "r, theta, phi, Z = sp.symbols('r theta phi Z', real=True, positive=True)\n",
    "\n",
    "# Define wavefunctions\n",
    "# Define the radial part of the wavefunction squared |R_2s(r)|^2\n",
    "wf_2s_sq = (Z**3 / 2) * sp.exp(-Z * r) * (1 - (Z * r) / 2)**2\n",
    "wf_total_sq = wf_2s_sq * 1 / (4 * sp.pi)\n",
    "\n",
    "psi_1s = (1/sp.sqrt(sp.pi)) * Z**(3/2) * sp.exp(-Z*r)\n",
    "\n",
    "# Define the perturbing potential Phi(r)\n",
    "Phi_r = -(sp.exp(-2*Z*r) * (1 + Z*r) - 1) / r\n",
    "\n",
    "# Compute the squared modulus |ψ|²\n",
    "psi_conj = sp.simplify(wf_total_sq * sp.conjugate(wf_total_sq))\n",
    "\n",
    "# Define volume element in spherical coordinates\n",
    "dV = r**2 * sp.sin(theta)\n",
    "\n",
    "integ=psi_conj*Phi_r\n",
    "\n",
    "# Perform the integrals\n",
    "# 1. Integrate over phi from 0 to 2π\n",
    "phi_integral = sp.integrate(integ, (phi, 0, 2 * sp.pi))\n",
    "\n",
    "# 2. Integrate over theta from 0 to π\n",
    "theta_integral = sp.integrate(phi_integral * sp.sin(theta), (theta, 0, sp.pi))\n",
    "\n",
    "# 3. Integrate over r from 0 to ∞\n",
    "r_integral = sp.integrate(theta_integral * r**2, (r, 0, sp.oo))\n",
    "\n",
    "# Display final result\n",
    "sp.simplify(r_integral)"
   ]
  },
  {
   "cell_type": "code",
   "execution_count": 33,
   "id": "7854c1e6",
   "metadata": {},
   "outputs": [
    {
     "data": {
      "text/latex": [
       "$\\displaystyle \\frac{4100 \\pi Z^{1.0}}{64827}$"
      ],
      "text/plain": [
       "4100*pi*Z**1.0/64827"
      ]
     },
     "execution_count": 33,
     "metadata": {},
     "output_type": "execute_result"
    }
   ],
   "source": [
    "# Define symbols\n",
    "r, theta, phi, Z = sp.symbols('r theta phi Z', real=True, positive=True)\n",
    "\n",
    "# Define wavefunctions\n",
    "R_21 = (1 / (2 * sp.sqrt(6))) * sp.sqrt(Z**3) * sp.exp(-Z * r / 2) * (Z * r)\n",
    "Y_1m1 = sp.sqrt(3 / (8 * sp.pi)) * sp.sin(theta)\n",
    "psi_1s = (1/sp.sqrt(sp.pi)) * Z**(3/2) * sp.exp(-Z*r)\n",
    "\n",
    "# Define the perturbing potential Phi(r)\n",
    "Phi_r = -(sp.exp(-2*Z*r) * (1 + Z*r) - 1) / r\n",
    "\n",
    "# Compute the squared modulus |ψ|²\n",
    "psi_conj = sp.simplify(R_21*psi_1s * sp.conjugate(Y_1m1))\n",
    "\n",
    "# Define volume element in spherical coordinates\n",
    "dV = r**2 * sp.sin(theta)\n",
    "\n",
    "integ=psi_conj*Phi_r\n",
    "\n",
    "# Perform the integrals\n",
    "# 1. Integrate over phi from 0 to 2π\n",
    "phi_integral = sp.integrate(integ, (phi, 0, 2 * sp.pi))\n",
    "\n",
    "# 2. Integrate over theta from 0 to π\n",
    "theta_integral = sp.integrate(phi_integral * sp.sin(theta), (theta, 0, sp.pi))\n",
    "\n",
    "# 3. Integrate over r from 0 to ∞\n",
    "r_integral = sp.integrate(theta_integral * r**2, (r, 0, sp.oo))\n",
    "\n",
    "# Display final result\n",
    "sp.simplify(r_integral)"
   ]
  },
  {
   "cell_type": "code",
   "execution_count": 9,
   "id": "3baef84d",
   "metadata": {},
   "outputs": [
    {
     "name": "stdout",
     "output_type": "stream",
     "text": [
      "Symbolic Energy Difference ΔE: 2.6999999999999993\n",
      "Symbolic Frequency f: 652857095508768.1\n",
      "Experimental Red Lithium Frequency: 4.48e+14 Hz\n"
     ]
    }
   ],
   "source": [
    "# Constants\n",
    "h = 4.135667696e-15  # Planck's constant in eV·s\n",
    "c = 3.0e8  # Speed of light in m/s\n",
    "lambda_lithium = 670e-9  # Red lithium flame wavelength in meters\n",
    "\n",
    "# Define symbolic energy values\n",
    "E_2s, E_2p = 17.1, 19.8\n",
    "\n",
    "# Compute energy difference ΔE = E_2p - E_2s\n",
    "delta_E = E_2p - E_2s\n",
    "\n",
    "# Compute frequency using f = ΔE / h\n",
    "frequency = delta_E / h\n",
    "\n",
    "# Compute expected frequency from λ using f = c / λ\n",
    "expected_frequency = c / lambda_lithium\n",
    "\n",
    "# Display results\n",
    "print(\"Symbolic Energy Difference ΔE:\", delta_E)\n",
    "print(\"Symbolic Frequency f:\", frequency)\n",
    "print(f\"Experimental Red Lithium Frequency: {expected_frequency:.2e} Hz\")"
   ]
  },
  {
   "cell_type": "code",
   "execution_count": 60,
   "id": "b215fce3",
   "metadata": {},
   "outputs": [
    {
     "data": {
      "text/latex": [
       "$\\displaystyle \\frac{4096 \\sqrt{2} Z^{1.0}}{64827}$"
      ],
      "text/plain": [
       "4096*sqrt(2)*Z**1.0/64827"
      ]
     },
     "execution_count": 60,
     "metadata": {},
     "output_type": "execute_result"
    }
   ],
   "source": [
    "# Define symbols\n",
    "r, theta, phi, Z = sp.symbols('r theta phi Z', real=True, positive=True)\n",
    "\n",
    "# Define wavefunctions\n",
    "R_21 = (1 / ( sp.sqrt(24))) * sp.sqrt(Z**3) * sp.exp(-Z * r / 2) * (Z * r)\n",
    "Y_1m1 = sp.sqrt(3 / (8 * sp.pi)) * sp.sin(theta)* sp.exp(sp.I * phi)\n",
    "\n",
    "\n",
    "wf_2s = sp.sqrt(Z**3 / 2) * sp.exp(-Z * r/2) * (1 - (Z * r) / 2)\n",
    "wf_total = wf_2s * 1 / sp.sqrt(4 * sp.pi)\n",
    "\n",
    "psi_1s = (1/sp.sqrt( sp.pi)) * Z**(3/2) * sp.exp(-Z*r)\n",
    "\n",
    "# Define the perturbing potential Phi(r)\n",
    "Phi_r = -(sp.exp(-2*Z*r) * (1 + Z*r) - 1) / r\n",
    "\n",
    "# Compute the squared modulus |ψ|²\n",
    "psi_squared = sp.simplify(psi_1s* sp.conjugate(wf_total))\n",
    "#psi_squared=wf_total*wf_total\n",
    "\n",
    "\n",
    "# Define volume element in spherical coordinates\n",
    "dV = r**2 * sp.sin(theta)\n",
    "\n",
    "integ=psi_squared*Phi_r\n",
    "\n",
    "# Perform the integrals\n",
    "# 1. Integrate over phi from 0 to 2π\n",
    "phi_integral = sp.integrate(integ, (phi, 0, 2 * sp.pi))\n",
    "\n",
    "# 2. Integrate over theta from 0 to π\n",
    "theta_integral = sp.integrate(phi_integral * sp.sin(theta), (theta, 0, sp.pi))\n",
    "\n",
    "# 3. Integrate over r from 0 to ∞\n",
    "r_integral = sp.integrate(theta_integral * r**2, (r, 0, sp.oo))\n",
    "\n",
    "# Display final result\n",
    "sp.simplify(r_integral)"
   ]
  },
  {
   "cell_type": "markdown",
   "id": "9d377396",
   "metadata": {},
   "source": [
    "## 5. Conclusions\n",
    "\n",
    "- Summarize key findings here (e.g., fidelities, entropies, or performance metrics).\n",
    "- Briefly discuss limitations and potential next steps."
   ]
  }
 ],
 "metadata": {
  "kernelspec": {
   "display_name": "Python 3 (ipykernel)",
   "language": "python",
   "name": "python3"
  },
  "language_info": {
   "codemirror_mode": {
    "name": "ipython",
    "version": 3
   },
   "file_extension": ".py",
   "mimetype": "text/x-python",
   "name": "python",
   "nbconvert_exporter": "python",
   "pygments_lexer": "ipython3",
   "version": "3.10.12"
  }
 },
 "nbformat": 4,
 "nbformat_minor": 5
}
